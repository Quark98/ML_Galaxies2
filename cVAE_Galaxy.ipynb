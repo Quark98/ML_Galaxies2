{
 "cells": [
  {
   "cell_type": "code",
   "execution_count": 3,
   "metadata": {},
   "outputs": [
    {
     "name": "stdout",
     "output_type": "stream",
     "text": [
      "2.2.0-rc3\n"
     ]
    },
    {
     "name": "stderr",
     "output_type": "stream",
     "text": [
      "Using TensorFlow backend.\n"
     ]
    }
   ],
   "source": [
    "#import relevant libraries\n",
    "import numpy as np\n",
    "import pandas as pd\n",
    "import matplotlib.pyplot as plt\n",
    "from tensorflow.keras.layers import Input, Dense,Flatten,Reshape,Lambda,LeakyReLU,BatchNormalization\n",
    "from tensorflow.keras.models import Sequential\n",
    "from tensorflow.keras import backend as K \n",
    "from tensorflow.keras import Model\n",
    "from sklearn.preprocessing import StandardScaler\n",
    "import tensorflow as tf\n",
    "from tensorflow.python.keras.callbacks import ModelCheckpoint\n",
    "from tensorflow.python.keras.layers.merge import concatenate as concat\n",
    "import seaborn as sns"
   ]
  },
  {
   "cell_type": "code",
   "execution_count": 3,
   "metadata": {},
   "outputs": [],
   "source": [
    "df_gal = pd.read_csv('MyTable_Galaxy_Dato1998.csv') #load the SDSS spectroscopic data\n",
    "df_gal = df_gal.fillna('None')"
   ]
  },
  {
   "cell_type": "code",
   "execution_count": 4,
   "metadata": {},
   "outputs": [],
   "source": [
    "for col in ['mag_g','mag_r','mag_i','mag_z']: #clean the data\n",
    "    df_gal=df_gal.where(df_gal[col] >-1000)\n",
    "df_gal = df_gal.dropna()"
   ]
  },
  {
   "cell_type": "code",
   "execution_count": 6,
   "metadata": {},
   "outputs": [],
   "source": [
    "df_gal=df_gal.where(df_gal['cls'] == 'GALAXY') #choose galaxies only\n",
    "df_gal = df_gal.dropna()"
   ]
  },
  {
   "cell_type": "code",
   "execution_count": 9,
   "metadata": {},
   "outputs": [],
   "source": [
    "features = df_gal[['mag_g','mag_r','mag_i','mag_z']].to_numpy() #select features"
   ]
  },
  {
   "cell_type": "code",
   "execution_count": 10,
   "metadata": {},
   "outputs": [],
   "source": [
    "targets = df_gal[['z','mass']].to_numpy() #select labels"
   ]
  },
  {
   "cell_type": "code",
   "execution_count": 11,
   "metadata": {},
   "outputs": [
    {
     "data": {
      "image/png": "[encoded data removed]",
      "text/plain": [
       "<Figure size 432x288 with 1 Axes>"
      ]
     },
     "metadata": {
      "needs_background": "light"
     },
     "output_type": "display_data"
    }
   ],
   "source": [
    "#Plot of magnitudes in SDSS dataset\n",
    "for col in range(4):\n",
    "     plt.hist(np.transpose(features)[col], alpha=0.5, bins =100)\n",
    "\n",
    "plt.xlabel('Magnitude')\n",
    "plt.xlim(12.5,25)\n",
    "plt.ylabel('Count')\n",
    "plt.legend(['g mag','r mag','i mag','z mag'])\n",
    "plt.show()"
   ]
  },
  {
   "cell_type": "code",
   "execution_count": 12,
   "metadata": {},
   "outputs": [],
   "source": [
    "#train-validation-test split\n",
    "x_train = features[:round(len(features)*0.8)]\n",
    "y_train = targets[:round(len(targets)*0.8)]\n",
    "x_valid = features[round(len(features)*0.8):-1000]\n",
    "y_valid = targets[round(len(targets)*0.8):-1000]\n",
    "x_test = features[-1000:]\n",
    "y_test = targets[-1000:]"
   ]
  },
  {
   "cell_type": "code",
   "execution_count": 14,
   "metadata": {},
   "outputs": [],
   "source": [
    "X_train = np.copy(x_train)\n",
    "X_valid = np.copy(x_valid)"
   ]
  },
  {
   "cell_type": "code",
   "execution_count": 15,
   "metadata": {},
   "outputs": [],
   "source": [
    "#function for producing sampled latent variables to  be used in the end of the encoder\n",
    "def sampling(args):\n",
    "    mean, log_var = args\n",
    "    return K.random_normal(tf.shape(log_var)) * K.exp(log_var/2)+mean"
   ]
  },
  {
   "cell_type": "code",
   "execution_count": 16,
   "metadata": {},
   "outputs": [],
   "source": [
    "#get the shapes of features and targets\n",
    "n_x = x_train.shape[1]\n",
    "n_y = y_train.shape[1]"
   ]
  },
  {
   "cell_type": "code",
   "execution_count": 17,
   "metadata": {},
   "outputs": [],
   "source": [
    "X = Input(shape=[n_x,])\n",
    "label = Input(shape=[n_y,])\n"
   ]
  },
  {
   "cell_type": "code",
   "execution_count": 18,
   "metadata": {},
   "outputs": [],
   "source": [
    "coding_size = 10 #choose codings size\n",
    "#create the encoder\n",
    "inputs = concat([X,label])\n",
    "z= Dense(400,)(inputs)\n",
    "z=BatchNormalization()(z)\n",
    "z = LeakyReLU()(z)\n",
    "z= Dense(350,)(z)\n",
    "z=BatchNormalization()(z)\n",
    "z = LeakyReLU()(z)\n",
    "z= Dense(300,)(z)\n",
    "z=BatchNormalization()(z)\n",
    "z = LeakyReLU()(z)\n",
    "z= Dense(250,)(z)\n",
    "z=BatchNormalization()(z)\n",
    "z = LeakyReLU()(z)\n",
    "z= Dense(200,)(z)\n",
    "z=BatchNormalization()(z)\n",
    "z = LeakyReLU()(z)\n",
    "z = Dense(150,)(z)\n",
    "z=BatchNormalization()(z)\n",
    "z = LeakyReLU()(z)\n",
    "z = Dense(100,)(z)\n",
    "z=BatchNormalization()(z)\n",
    "z = LeakyReLU()(z)\n",
    "z = Dense(50,)(z)\n",
    "z=BatchNormalization()(z)\n",
    "z = LeakyReLU()(z)\n",
    "mean = Dense(coding_size)(z)\n",
    "gamma = Dense(coding_size)(z)\n",
    "codings = Lambda(sampling)([mean, gamma])\n",
    "cvae_encoder = Model(inputs = [X,label], outputs = [codings])"
   ]
  },
  {
   "cell_type": "code",
   "execution_count": 19,
   "metadata": {},
   "outputs": [],
   "source": [
    "#create the decoder\n",
    "decoder_input = Input(shape=[coding_size+n_y])\n",
    "x = Dense(50, )(decoder_input)\n",
    "x=BatchNormalization()(x)\n",
    "x = LeakyReLU()(x)\n",
    "x = Dense(100)(x)\n",
    "x=BatchNormalization()(x)\n",
    "x = LeakyReLU()(x)\n",
    "x = Dense(150)(x)\n",
    "x=BatchNormalization()(x)\n",
    "x = LeakyReLU()(x)\n",
    "x = Dense(200)(x)\n",
    "x=BatchNormalization()(x)\n",
    "x = LeakyReLU()(x)\n",
    "x = Dense(250)(x)\n",
    "x=BatchNormalization()(x)\n",
    "x = LeakyReLU()(x)\n",
    "x = Dense(300)(x)\n",
    "x=BatchNormalization()(x)\n",
    "x = LeakyReLU()(x)\n",
    "x = Dense(350)(x)\n",
    "x=BatchNormalization()(x)\n",
    "x = LeakyReLU()(x)\n",
    "x = Dense(400)(x)\n",
    "x=BatchNormalization()(x)\n",
    "x = LeakyReLU()(x)\n",
    "outputs = Dense(n_x)(x)\n",
    "\n",
    "cvae_decoder = Model(inputs=[decoder_input], outputs = [outputs])"
   ]
  },
  {
   "cell_type": "code",
   "execution_count": 20,
   "metadata": {},
   "outputs": [],
   "source": [
    "#link up the encoder and decoder into a cVAE\n",
    "codings = cvae_encoder([X,label])\n",
    "ccodings = concat([codings, label])\n",
    "reconstructions = cvae_decoder(ccodings)\n",
    "cvae = Model(inputs=[X,label], outputs = [reconstructions])"
   ]
  },
  {
   "cell_type": "code",
   "execution_count": 21,
   "metadata": {},
   "outputs": [],
   "source": [
    "latent_loss = -0.5 * K.sum(1+gamma - K.exp(gamma)-K.square(mean),axis = 1) #Add KL divergence \n",
    "cvae.add_loss(K.mean(latent_loss)/784)\n",
    "cvae.compile(loss ='mean_squared_error', optimizer = 'rmsprop') #Choose loss and optimiser"
   ]
  },
  {
   "cell_type": "code",
   "execution_count": 22,
   "metadata": {},
   "outputs": [],
   "source": [
    "mcp_save = ModelCheckpoint('./.cvae_galaxy.hdf5', save_best_only=True, monitor='val_loss', mode='min', save_weights_only=True)#Lowest validation loss model is saved"
   ]
  },
  {
   "cell_type": "code",
   "execution_count": 24,
   "metadata": {},
   "outputs": [
    {
     "name": "stdout",
     "output_type": "stream",
     "text": [
      "Train on 683974 samples, validate on 169994 samples\n",
      "Epoch 1/50\n",
      "683974/683974 [==============================] - 133s 195us/sample - loss: 0.0694 - val_loss: 0.1313\n",
      "Epoch 2/50\n",
      "683974/683974 [==============================] - 131s 192us/sample - loss: 0.0622 - val_loss: 0.0390\n",
      "Epoch 3/50\n",
      "683974/683974 [==============================] - 137s 200us/sample - loss: 0.0571 - val_loss: 0.1267\n",
      "Epoch 4/50\n",
      "683974/683974 [==============================] - 141s 207us/sample - loss: 0.0532 - val_loss: 0.0582\n",
      "Epoch 5/50\n",
      "683974/683974 [==============================] - 139s 204us/sample - loss: 0.0497 - val_loss: 0.0796\n",
      "Epoch 6/50\n",
      "683974/683974 [==============================] - 141s 206us/sample - loss: 0.0473 - val_loss: 0.0472\n",
      "Epoch 7/50\n",
      "683974/683974 [==============================] - 141s 206us/sample - loss: 0.0447 - val_loss: 0.0749\n",
      "Epoch 8/50\n",
      "683974/683974 [==============================] - 135s 197us/sample - loss: 0.0432 - val_loss: 0.0283\n",
      "Epoch 9/50\n",
      "683974/683974 [==============================] - 140s 205us/sample - loss: 0.0410 - val_loss: 0.0272\n",
      "Epoch 10/50\n",
      "683974/683974 [==============================] - 141s 207us/sample - loss: 0.0399 - val_loss: 0.0453\n",
      "Epoch 11/50\n",
      "683974/683974 [==============================] - 141s 206us/sample - loss: 0.0383 - val_loss: 0.0189\n",
      "Epoch 12/50\n",
      "683974/683974 [==============================] - 132s 192us/sample - loss: 0.0372 - val_loss: 0.0306\n",
      "Epoch 13/50\n",
      "683974/683974 [==============================] - 140s 204us/sample - loss: 0.0359 - val_loss: 0.0926\n",
      "Epoch 14/50\n",
      "683974/683974 [==============================] - 139s 203us/sample - loss: 0.0347 - val_loss: 0.0352\n",
      "Epoch 15/50\n",
      "683974/683974 [==============================] - 143s 209us/sample - loss: 0.0340 - val_loss: 0.0480\n",
      "Epoch 16/50\n",
      "683974/683974 [==============================] - 144s 211us/sample - loss: 0.0330 - val_loss: 0.0280\n",
      "Epoch 17/50\n",
      "683974/683974 [==============================] - 135s 197us/sample - loss: 0.0323 - val_loss: 0.0455\n",
      "Epoch 18/50\n",
      "683974/683974 [==============================] - 134s 195us/sample - loss: 0.0314 - val_loss: 0.0564\n",
      "Epoch 19/50\n",
      "683974/683974 [==============================] - 133s 195us/sample - loss: 0.0308 - val_loss: 0.0443\n",
      "Epoch 20/50\n",
      "683974/683974 [==============================] - 134s 195us/sample - loss: 0.0302 - val_loss: 0.0556\n",
      "Epoch 21/50\n",
      "683974/683974 [==============================] - 135s 197us/sample - loss: 0.0295 - val_loss: 0.0444\n",
      "Epoch 22/50\n",
      "683974/683974 [==============================] - 136s 198us/sample - loss: 0.0291 - val_loss: 0.0513\n",
      "Epoch 23/50\n",
      "683974/683974 [==============================] - 146s 213us/sample - loss: 0.0282 - val_loss: 0.0702\n",
      "Epoch 24/50\n",
      "683974/683974 [==============================] - 150s 219us/sample - loss: 0.0277 - val_loss: 0.0423\n",
      "Epoch 25/50\n",
      "683974/683974 [==============================] - 143s 210us/sample - loss: 0.0273 - val_loss: 0.0610\n",
      "Epoch 26/50\n",
      "683974/683974 [==============================] - 140s 204us/sample - loss: 0.0268 - val_loss: 0.0171\n",
      "Epoch 27/50\n",
      "683974/683974 [==============================] - 146s 213us/sample - loss: 0.0264 - val_loss: 0.0198\n",
      "Epoch 28/50\n",
      "683974/683974 [==============================] - 146s 213us/sample - loss: 0.0259 - val_loss: 0.0261\n",
      "Epoch 29/50\n",
      "683974/683974 [==============================] - 135s 197us/sample - loss: 0.0256 - val_loss: 0.0719\n",
      "Epoch 30/50\n",
      "683974/683974 [==============================] - 135s 197us/sample - loss: 0.0253 - val_loss: 0.0296\n",
      "Epoch 31/50\n",
      "683974/683974 [==============================] - 135s 197us/sample - loss: 0.0252 - val_loss: 0.0306\n",
      "Epoch 32/50\n",
      "683974/683974 [==============================] - 135s 198us/sample - loss: 0.0248 - val_loss: 0.0315\n",
      "Epoch 33/50\n",
      "683974/683974 [==============================] - 135s 198us/sample - loss: 0.0246 - val_loss: 0.0336\n",
      "Epoch 34/50\n",
      "683974/683974 [==============================] - 136s 199us/sample - loss: 0.0242 - val_loss: 0.0351\n",
      "Epoch 35/50\n",
      "683974/683974 [==============================] - 137s 201us/sample - loss: 0.0240 - val_loss: 0.0212\n",
      "Epoch 36/50\n",
      "683974/683974 [==============================] - 138s 201us/sample - loss: 0.0238 - val_loss: 0.0183\n",
      "Epoch 37/50\n",
      "683974/683974 [==============================] - 146s 213us/sample - loss: 0.0234 - val_loss: 0.0765\n",
      "Epoch 38/50\n",
      "683974/683974 [==============================] - 148s 216us/sample - loss: 0.0231 - val_loss: 0.0318\n",
      "Epoch 39/50\n",
      "683974/683974 [==============================] - 145s 212us/sample - loss: 0.0230 - val_loss: 0.1341\n",
      "Epoch 40/50\n",
      "683974/683974 [==============================] - 144s 211us/sample - loss: 0.0229 - val_loss: 0.0535\n",
      "Epoch 41/50\n",
      "683974/683974 [==============================] - 150s 219us/sample - loss: 0.0226 - val_loss: 0.0802\n",
      "Epoch 42/50\n",
      "683974/683974 [==============================] - 143s 210us/sample - loss: 0.0225 - val_loss: 0.0393\n",
      "Epoch 43/50\n",
      "683974/683974 [==============================] - 140s 204us/sample - loss: 0.0222 - val_loss: 0.0328\n",
      "Epoch 44/50\n",
      "683974/683974 [==============================] - 143s 209us/sample - loss: 0.0222 - val_loss: 0.0268\n",
      "Epoch 45/50\n",
      "683974/683974 [==============================] - 137s 201us/sample - loss: 0.0218 - val_loss: 0.0220\n",
      "Epoch 46/50\n",
      "683974/683974 [==============================] - 138s 201us/sample - loss: 0.0219 - val_loss: 0.0202\n",
      "Epoch 47/50\n",
      "683974/683974 [==============================] - 134s 195us/sample - loss: 0.0217 - val_loss: 0.0226\n",
      "Epoch 48/50\n",
      "683974/683974 [==============================] - 133s 194us/sample - loss: 0.0215 - val_loss: 0.0193\n",
      "Epoch 49/50\n",
      "683974/683974 [==============================] - 132s 194us/sample - loss: 0.0211 - val_loss: 0.0708\n",
      "Epoch 50/50\n",
      "683974/683974 [==============================] - 139s 203us/sample - loss: 0.0211 - val_loss: 0.0267\n"
     ]
    },
    {
     "data": {
      "image/png": "[encoded data removed]",
      "text/plain": [
       "<Figure size 576x288 with 1 Axes>"
      ]
     },
     "metadata": {
      "needs_background": "light"
     },
     "output_type": "display_data"
    }
   ],
   "source": [
    "#train cVAE\n",
    "history = cvae.fit([x_train,y_train], x_train,\n",
    "                epochs=50,\n",
    "                batch_size=128,\n",
    "                shuffle=True,\n",
    "                validation_data=([x_valid,y_valid], x_valid),\n",
    "                callbacks=[mcp_save] )\n",
    "epochs = range(1, len(history.history[\"loss\"])+1)\n",
    "plt.figure(1, figsize=(8,4))\n",
    "plt.plot(epochs, history.history[\"loss\"], lw=3, label=\"Training loss\")\n",
    "plt.plot(epochs, history.history[\"val_loss\"], lw=3, label=\"Validation loss\")\n",
    "plt.xlabel(\"Gradient step\"), plt.ylabel(\"RMS Loss\");\n",
    "plt.legend()\n",
    "#Keep plot window alive!\n",
    "plt.show()"
   ]
  },
  {
   "cell_type": "code",
   "execution_count": 25,
   "metadata": {},
   "outputs": [],
   "source": [
    "cvae.load_weights(filepath=\"./.cvae_galaxy.hdf5\") #load the cVAE with best weights"
   ]
  },
  {
   "cell_type": "code",
   "execution_count": 26,
   "metadata": {},
   "outputs": [],
   "source": [
    "#generate data using the withheld test set\n",
    "n=1000\n",
    "labels = y_test\n",
    "new_codings = np.random.normal(size=[n,coding_size])\n",
    "new = np.concatenate([new_codings, labels],axis=-1)\n",
    "new = tf.convert_to_tensor(new, dtype=tf.float32)\n",
    "galaxies = cvae_decoder(new).numpy()\n",
    "np.save('X.npy', x_test)\n",
    "np.save('Y.xyz', new)"
   ]
  },
  {
   "cell_type": "code",
   "execution_count": 31,
   "metadata": {},
   "outputs": [
    {
     "data": {
      "image/png": "[encoded data removed]",
      "text/plain": [
       "<Figure size 432x288 with 1 Axes>"
      ]
     },
     "metadata": {
      "needs_background": "light"
     },
     "output_type": "display_data"
    }
   ],
   "source": [
    "#plot of magintudes of generated data\n",
    "for col in range(4):\n",
    "     plt.hist(np.transpose(galaxies)[col], alpha=0.5,bins=50)\n",
    "\n",
    "plt.xlabel('Magnitude')\n",
    "plt.ylabel('Count')\n",
    "plt.legend(['g mag','r mag','i mag','z mag'])\n",
    "plt.show()"
   ]
  },
  {
   "cell_type": "code",
   "execution_count": 32,
   "metadata": {},
   "outputs": [
    {
     "data": {
      "image/png": "[encoded data removed]",
      "text/plain": [
       "<Figure size 432x288 with 1 Axes>"
      ]
     },
     "metadata": {
      "needs_background": "light"
     },
     "output_type": "display_data"
    }
   ],
   "source": [
    "#plot of magnitudes of 1000 SDSS data points\n",
    "for col in range(4):\n",
    "     plt.hist(np.transpose(x_test)[col], alpha=0.5, bins =50)\n",
    "\n",
    "plt.xlabel('Magnitude')\n",
    "plt.ylabel('Count')\n",
    "plt.legend(['g mag','r mag','i mag','z mag'])\n",
    "plt.show()"
   ]
  },
  {
   "cell_type": "code",
   "execution_count": 33,
   "metadata": {},
   "outputs": [
    {
     "data": {
      "image/png": "[encoded data removed]",
      "text/plain": [
       "<Figure size 432x288 with 1 Axes>"
      ]
     },
     "metadata": {
      "needs_background": "light"
     },
     "output_type": "display_data"
    }
   ],
   "source": [
    "#Plot difference in r band magnitude\n",
    "plt.hist(np.transpose(galaxies)[1]-np.transpose(x_test)[1], alpha=0.5,bins=50)\n",
    "plt.xlabel('Difference in r band Magnitude')\n",
    "plt.ylabel('Count')\n",
    "plt.show()"
   ]
  },
  {
   "cell_type": "code",
   "execution_count": 34,
   "metadata": {},
   "outputs": [],
   "source": [
    "df = pd.read_csv('HSC_big.csv') #load in HSC data\n",
    "df = df.dropna()"
   ]
  },
  {
   "cell_type": "code",
   "execution_count": 35,
   "metadata": {},
   "outputs": [
    {
     "name": "stderr",
     "output_type": "stream",
     "text": [
      "c:\\users\\dato\\appdata\\local\\programs\\python\\python37\\lib\\site-packages\\ipykernel_launcher.py:1: RuntimeWarning: invalid value encountered in log10\n",
      "  \"\"\"Entry point for launching an IPython kernel.\n"
     ]
    }
   ],
   "source": [
    "df['stellar_mass'] = np.log10(df['stellar_mass'])"
   ]
  },
  {
   "cell_type": "code",
   "execution_count": 36,
   "metadata": {},
   "outputs": [],
   "source": [
    "test = df[['stellar_mass','specz_redshift']].to_numpy() #take labels"
   ]
  },
  {
   "cell_type": "code",
   "execution_count": 37,
   "metadata": {},
   "outputs": [],
   "source": [
    "n=len(test)\n",
    "labels = test\n",
    "new_codings = np.random.normal(size=[n,coding_size])\n",
    "new = np.concatenate([new_codings, labels],axis=-1)\n",
    "new = tf.convert_to_tensor(new, dtype=tf.float32)\n",
    "galaxies = cvae_decoder(new).numpy() #generate data using HSC labels"
   ]
  },
  {
   "cell_type": "code",
   "execution_count": 38,
   "metadata": {},
   "outputs": [
    {
     "data": {
      "text/plain": [
       "<matplotlib.legend.Legend at 0x24f59bef808>"
      ]
     },
     "execution_count": 38,
     "metadata": {},
     "output_type": "execute_result"
    },
    {
     "data": {
      "image/png": "[encoded data removed]",
      "text/plain": [
       "<Figure size 432x288 with 1 Axes>"
      ]
     },
     "metadata": {
      "needs_background": "light"
     },
     "output_type": "display_data"
    }
   ],
   "source": [
    "#plot HSC data to be reproduces\n",
    "for col in ['g_cmodel_mag','r_cmodel_mag','i_cmodel_mag','z_cmodel_mag']:\n",
    "    plt.hist(df[col],bins=100,alpha=0.5)\n",
    "plt.ylabel('Count')\n",
    "plt.xlabel('Magnitude')\n",
    "plt.legend(['g mag','r mag','i mag','z mag'])"
   ]
  },
  {
   "cell_type": "code",
   "execution_count": 39,
   "metadata": {},
   "outputs": [
    {
     "name": "stderr",
     "output_type": "stream",
     "text": [
      "c:\\users\\dato\\appdata\\local\\programs\\python\\python37\\lib\\site-packages\\numpy\\lib\\histograms.py:824: RuntimeWarning: invalid value encountered in greater_equal\n",
      "  keep = (tmp_a >= first_edge)\n",
      "c:\\users\\dato\\appdata\\local\\programs\\python\\python37\\lib\\site-packages\\numpy\\lib\\histograms.py:825: RuntimeWarning: invalid value encountered in less_equal\n",
      "  keep &= (tmp_a <= last_edge)\n"
     ]
    },
    {
     "data": {
      "image/png": "[encoded data removed]",
      "text/plain": [
       "<Figure size 432x288 with 1 Axes>"
      ]
     },
     "metadata": {
      "needs_background": "light"
     },
     "output_type": "display_data"
    }
   ],
   "source": [
    "#Plot generated data\n",
    "for col in range(4):\n",
    "     plt.hist(np.transpose(galaxies)[col], alpha=0.5,bins=100)\n",
    "plt.legend(['g mag','r mag','i mag','z mag'])\n",
    "plt.xlabel('Magnitude')\n",
    "plt.ylabel('Count')\n",
    "plt.show()"
   ]
  },
  {
   "cell_type": "code",
   "execution_count": null,
   "metadata": {},
   "outputs": [],
   "source": []
  },
  {
   "cell_type": "code",
   "execution_count": null,
   "metadata": {},
   "outputs": [],
   "source": []
  }
 ],
 "metadata": {
  "kernelspec": {
   "display_name": "Python 3",
   "language": "python",
   "name": "python3"
  },
  "language_info": {
   "codemirror_mode": {
    "name": "ipython",
    "version": 3
   },
   "file_extension": ".py",
   "mimetype": "text/x-python",
   "name": "python",
   "nbconvert_exporter": "python",
   "pygments_lexer": "ipython3",
   "version": "3.8.0"
  }
 },
 "nbformat": 4,
 "nbformat_minor": 2
}

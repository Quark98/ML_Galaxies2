{
 "cells": [
  {
   "cell_type": "code",
   "execution_count": 45,
   "metadata": {},
   "outputs": [],
   "source": [
    "#import relevant libraries\n",
    "import numpy as np\n",
    "import pandas as pd\n",
    "from keras.datasets import mnist\n",
    "import matplotlib.pyplot as plt\n",
    "from tensorflow.keras.layers import Input, Dense,Flatten,Reshape,Lambda\n",
    "from tensorflow.keras.models import Sequential\n",
    "from tensorflow.keras import backend as K \n",
    "from tensorflow.keras import Model\n",
    "import tensorflow as tf\n",
    "from tensorflow.python.keras.utils import to_categorical\n",
    "from tensorflow.python.keras.callbacks import ModelCheckpoint\n",
    "from tensorflow.python.keras.layers.merge import concatenate as concat\n",
    "import datetime"
   ]
  },
  {
   "cell_type": "code",
   "execution_count": 47,
   "metadata": {},
   "outputs": [],
   "source": [
    "(x_train, y_train), (x_test, y_test) = mnist.load_data() #load in the MNIST data"
   ]
  },
  {
   "cell_type": "code",
   "execution_count": 48,
   "metadata": {},
   "outputs": [],
   "source": [
    "#normalise the data\n",
    "x_train = x_train.astype('float32') / 255. \n",
    "x_test = x_test.astype('float32') / 255."
   ]
  },
  {
   "cell_type": "code",
   "execution_count": 49,
   "metadata": {},
   "outputs": [],
   "source": [
    "#split into training and validation sets\n",
    "x_valid = x_train[50000:]\n",
    "x_train = x_train[:50000]\n",
    "y_valid = y_train[50000:]\n",
    "y_train = y_train[:50000]"
   ]
  },
  {
   "cell_type": "code",
   "execution_count": 51,
   "metadata": {},
   "outputs": [],
   "source": [
    "#put everythong in the correct shape\n",
    "n_pixels = np.prod(x_train.shape[1:])\n",
    "x_train = x_train.reshape((len(x_train), n_pixels))\n",
    "x_test = x_test.reshape((len(x_test), n_pixels))\n",
    "x_valid = x_valid.reshape((len(x_valid), n_pixels))"
   ]
  },
  {
   "cell_type": "code",
   "execution_count": 52,
   "metadata": {},
   "outputs": [],
   "source": [
    "#convert to categorical data\n",
    "y_train = to_categorical(y_train)\n",
    "y_test = to_categorical(y_test)\n",
    "y_valid = to_categorical(y_valid)"
   ]
  },
  {
   "cell_type": "code",
   "execution_count": 53,
   "metadata": {},
   "outputs": [],
   "source": [
    "# cVAE"
   ]
  },
  {
   "cell_type": "code",
   "execution_count": 55,
   "metadata": {},
   "outputs": [],
   "source": [
    "#function for producing sampled latent variables to  be used in the end of the encoder\n",
    "def sampling(args):\n",
    "    mean, log_var = args\n",
    "    return K.random_normal(tf.shape(log_var)) * K.exp(log_var/2)+mean"
   ]
  },
  {
   "cell_type": "code",
   "execution_count": 56,
   "metadata": {},
   "outputs": [
    {
     "data": {
      "text/plain": [
       "10"
      ]
     },
     "execution_count": 56,
     "metadata": {},
     "output_type": "execute_result"
    }
   ],
   "source": [
    "#get the shapes\n",
    "n_x = x_train.shape[1]\n",
    "n_y = y_train.shape[1]"
   ]
  },
  {
   "cell_type": "code",
   "execution_count": 57,
   "metadata": {},
   "outputs": [],
   "source": [
    "X = Input(shape=[n_x,])\n",
    "label = Input(shape=[n_y,])\n"
   ]
  },
  {
   "cell_type": "code",
   "execution_count": 58,
   "metadata": {},
   "outputs": [],
   "source": [
    "coding_size = 2 #defien conding size\n",
    "#make the encoder, input features and labels, output sampled encodings\n",
    "inputs = concat([X,label])\n",
    "z= Dense(150, activation = 'selu')(inputs)\n",
    "z = Dense(100, activation = 'selu')(z)\n",
    "z = Dense(50, activation = 'selu')(z)\n",
    "mean = Dense(coding_size)(z)\n",
    "gamma = Dense(coding_size)(z)\n",
    "codings = Lambda(sampling)([mean, gamma])\n",
    "cvae_encoder = Model(inputs = [X,label], outputs = [codings])\n"
   ]
  },
  {
   "cell_type": "code",
   "execution_count": 59,
   "metadata": {},
   "outputs": [],
   "source": [
    "#make the decoder, input codings and labels output reconstructions\n",
    "decoder_input = Input(shape=[coding_size+n_y])\n",
    "x = Dense(50, activation = 'selu')(decoder_input)\n",
    "x = Dense(100, activation = 'selu')(x)\n",
    "x = Dense(150, activation = 'selu')(x)\n",
    "x = Dense(28 * 28, activation = 'sigmoid')(x)\n",
    "outputs = Reshape([28,28])(x)\n",
    "cvae_decoder = Model(inputs=[decoder_input], outputs = [outputs])"
   ]
  },
  {
   "cell_type": "code",
   "execution_count": 60,
   "metadata": {},
   "outputs": [],
   "source": [
    "#link up encoder and decoder with correct inputs\n",
    "codings = cvae_encoder([X,label])\n",
    "ccodings = concat([codings, label])\n",
    "reconstructions = cvae_decoder(ccodings)\n",
    "cvae = Model(inputs=[X,label], outputs = [reconstructions])"
   ]
  },
  {
   "cell_type": "code",
   "execution_count": 61,
   "metadata": {},
   "outputs": [],
   "source": [
    "latent_loss = -0.5 * K.sum(1+gamma - K.exp(gamma)-K.square(mean),axis = 1) #add KL divergence\n",
    "cvae.add_loss(K.mean(latent_loss)/784)\n",
    "cvae.compile(loss ='binary_crossentropy', optimizer = 'rmsprop', run_eagerly = True) # choose reconstruction loss"
   ]
  },
  {
   "cell_type": "code",
   "execution_count": 62,
   "metadata": {},
   "outputs": [],
   "source": [
    "#define checpoints, this case only choosed the lowest validation loss and creates tensorboard log\n",
    "mcp_save = ModelCheckpoint('.cvae_mnist.hdf5', save_best_only=True, monitor='val_loss', mode='min', save_format=\"tf\", save_weights_only=True)"
   ]
  },
  {
   "cell_type": "code",
   "execution_count": 67,
   "metadata": {},
   "outputs": [],
   "source": [
    "log_dir = 'logs\\\\fit\\\\'+ datetime.datetime.now().strftime(\"%Y%m%d-%H%M%S\")\n",
    "tensorboard_callback = tf.keras.callbacks.TensorBoard(log_dir=log_dir, histogram_freq=1)"
   ]
  },
  {
   "cell_type": "code",
   "execution_count": 69,
   "metadata": {},
   "outputs": [
    {
     "name": "stdout",
     "output_type": "stream",
     "text": [
      "Train on 50000 samples, validate on 10000 samples\n",
      "Epoch 1/50\n",
      "50000/50000 [==============================] - 27s 546us/sample - loss: 0.1802 - val_loss: 0.1798\n",
      "Epoch 2/50\n",
      "50000/50000 [==============================] - 26s 529us/sample - loss: 0.1781 - val_loss: 0.1750\n",
      "Epoch 3/50\n",
      "50000/50000 [==============================] - 27s 537us/sample - loss: 0.1765 - val_loss: 0.1740\n",
      "Epoch 4/50\n",
      "50000/50000 [==============================] - 26s 514us/sample - loss: 0.1752 - val_loss: 0.1733\n",
      "Epoch 5/50\n",
      "50000/50000 [==============================] - 26s 510us/sample - loss: 0.1742 - val_loss: 0.1729\n",
      "Epoch 6/50\n",
      "50000/50000 [==============================] - 25s 509us/sample - loss: 0.1734 - val_loss: 0.1715\n",
      "Epoch 7/50\n",
      "50000/50000 [==============================] - 26s 515us/sample - loss: 0.1727 - val_loss: 0.1716\n",
      "Epoch 8/50\n",
      "50000/50000 [==============================] - 25s 506us/sample - loss: 0.1721 - val_loss: 0.1710\n",
      "Epoch 9/50\n",
      "50000/50000 [==============================] - 26s 513us/sample - loss: 0.1716 - val_loss: 0.1709\n",
      "Epoch 10/50\n",
      "50000/50000 [==============================] - 25s 509us/sample - loss: 0.1711 - val_loss: 0.1693\n",
      "Epoch 11/50\n",
      "50000/50000 [==============================] - 25s 507us/sample - loss: 0.1707 - val_loss: 0.1696\n",
      "Epoch 12/50\n",
      "50000/50000 [==============================] - 38s 761us/sample - loss: 0.1703 - val_loss: 0.1687\n",
      "Epoch 13/50\n",
      "50000/50000 [==============================] - 50s 998us/sample - loss: 0.1700 - val_loss: 0.1684\n",
      "Epoch 14/50\n",
      "50000/50000 [==============================] - 48s 963us/sample - loss: 0.1698 - val_loss: 0.1695\n",
      "Epoch 15/50\n",
      "50000/50000 [==============================] - 48s 970us/sample - loss: 0.1694 - val_loss: 0.1683\n",
      "Epoch 16/50\n",
      "50000/50000 [==============================] - 48s 962us/sample - loss: 0.1692 - val_loss: 0.1697\n",
      "Epoch 17/50\n",
      "50000/50000 [==============================] - 35s 703us/sample - loss: 0.1690 - val_loss: 0.1679\n",
      "Epoch 18/50\n",
      "50000/50000 [==============================] - 25s 507us/sample - loss: 0.1688 - val_loss: 0.1680\n",
      "Epoch 19/50\n",
      "50000/50000 [==============================] - 26s 514us/sample - loss: 0.1686 - val_loss: 0.1684\n",
      "Epoch 20/50\n",
      "50000/50000 [==============================] - 25s 507us/sample - loss: 0.1684 - val_loss: 0.1676\n",
      "Epoch 21/50\n",
      "50000/50000 [==============================] - 26s 513us/sample - loss: 0.1683 - val_loss: 0.1677\n",
      "Epoch 22/50\n",
      "50000/50000 [==============================] - 25s 508us/sample - loss: 0.1681 - val_loss: 0.1671\n",
      "Epoch 23/50\n",
      "50000/50000 [==============================] - 25s 504us/sample - loss: 0.1679 - val_loss: 0.1678\n",
      "Epoch 24/50\n",
      "50000/50000 [==============================] - 26s 510us/sample - loss: 0.1678 - val_loss: 0.1673\n",
      "Epoch 25/50\n",
      "50000/50000 [==============================] - 25s 504us/sample - loss: 0.1677 - val_loss: 0.1669\n",
      "Epoch 26/50\n",
      "50000/50000 [==============================] - 25s 504us/sample - loss: 0.1676 - val_loss: 0.1670\n",
      "Epoch 27/50\n",
      "50000/50000 [==============================] - 25s 504us/sample - loss: 0.1674 - val_loss: 0.1671\n",
      "Epoch 28/50\n",
      "50000/50000 [==============================] - 25s 500us/sample - loss: 0.1673 - val_loss: 0.1680\n",
      "Epoch 29/50\n",
      "50000/50000 [==============================] - 25s 505us/sample - loss: 0.1672 - val_loss: 0.1665\n",
      "Epoch 30/50\n",
      "50000/50000 [==============================] - 27s 542us/sample - loss: 0.1671 - val_loss: 0.1664\n",
      "Epoch 31/50\n",
      "50000/50000 [==============================] - 26s 514us/sample - loss: 0.1669 - val_loss: 0.1669\n",
      "Epoch 32/50\n",
      "50000/50000 [==============================] - 26s 510us/sample - loss: 0.1669 - val_loss: 0.1662\n",
      "Epoch 33/50\n",
      "50000/50000 [==============================] - 25s 508us/sample - loss: 0.1668 - val_loss: 0.1674\n",
      "Epoch 34/50\n",
      "50000/50000 [==============================] - 27s 541us/sample - loss: 0.1667 - val_loss: 0.1666\n",
      "Epoch 35/50\n",
      "50000/50000 [==============================] - 30s 605us/sample - loss: 0.1666 - val_loss: 0.1668\n",
      "Epoch 36/50\n",
      "50000/50000 [==============================] - 29s 583us/sample - loss: 0.1665 - val_loss: 0.1667\n",
      "Epoch 37/50\n",
      "50000/50000 [==============================] - 31s 624us/sample - loss: 0.1664 - val_loss: 0.1664\n",
      "Epoch 38/50\n",
      "50000/50000 [==============================] - 32s 631us/sample - loss: 0.1663 - val_loss: 0.1666\n",
      "Epoch 39/50\n",
      "50000/50000 [==============================] - 32s 641us/sample - loss: 0.1662 - val_loss: 0.1666\n",
      "Epoch 40/50\n",
      "50000/50000 [==============================] - 32s 635us/sample - loss: 0.1661 - val_loss: 0.1670\n",
      "Epoch 41/50\n",
      "50000/50000 [==============================] - 32s 636us/sample - loss: 0.1661 - val_loss: 0.1666\n",
      "Epoch 42/50\n",
      "50000/50000 [==============================] - 32s 635us/sample - loss: 0.1660 - val_loss: 0.1660\n",
      "Epoch 43/50\n",
      "50000/50000 [==============================] - 32s 635us/sample - loss: 0.1659 - val_loss: 0.1662\n",
      "Epoch 44/50\n",
      "50000/50000 [==============================] - 32s 647us/sample - loss: 0.1658 - val_loss: 0.1666\n",
      "Epoch 45/50\n",
      "50000/50000 [==============================] - 32s 640us/sample - loss: 0.1658 - val_loss: 0.1659\n",
      "Epoch 46/50\n",
      "50000/50000 [==============================] - 31s 626us/sample - loss: 0.1656 - val_loss: 0.1666\n",
      "Epoch 47/50\n",
      "50000/50000 [==============================] - 32s 634us/sample - loss: 0.1655 - val_loss: 0.1663\n",
      "Epoch 48/50\n",
      "50000/50000 [==============================] - 32s 634us/sample - loss: 0.1655 - val_loss: 0.1657\n",
      "Epoch 49/50\n",
      "50000/50000 [==============================] - 32s 634us/sample - loss: 0.1654 - val_loss: 0.1658\n",
      "Epoch 50/50\n",
      "50000/50000 [==============================] - 32s 633us/sample - loss: 0.1653 - val_loss: 0.1657\n"
     ]
    },
    {
     "data": {
      "image/png": "[encoded data removed]",
      "text/plain": [
       "<Figure size 576x288 with 1 Axes>"
      ]
     },
     "metadata": {
      "needs_background": "light"
     },
     "output_type": "display_data"
    }
   ],
   "source": [
    "#train the cVAE\n",
    "history = cvae.fit([x_train,y_train], X_train,\n",
    "                epochs=50,\n",
    "                batch_size=128,\n",
    "                shuffle=True,\n",
    "                validation_data=([x_valid,y_valid], X_valid),\n",
    "                callbacks=[mcp_save,tensorboard_callback] )\n",
    "epochs = range(1, len(history.history[\"loss\"])+1)\n",
    "plt.figure(1, figsize=(8,4))\n",
    "plt.plot(epochs, history.history[\"loss\"], lw=3, label=\"Training loss\")\n",
    "plt.plot(epochs, history.history[\"val_loss\"], lw=3, label=\"Validation loss\")\n",
    "plt.xlabel(\"Gradient step\"), plt.ylabel(\"RMS Loss\");\n",
    "plt.legend()\n",
    "#Keep plot window alive!\n",
    "plt.show()"
   ]
  },
  {
   "cell_type": "code",
   "execution_count": 70,
   "metadata": {},
   "outputs": [],
   "source": [
    "cvae.load_weights(filepath=\".cvae_mnist.hdf5\") #load the best weights"
   ]
  },
  {
   "cell_type": "code",
   "execution_count": 71,
   "metadata": {},
   "outputs": [
    {
     "data": {
      "text/plain": [
       "True"
      ]
     },
     "execution_count": 71,
     "metadata": {},
     "output_type": "execute_result"
    }
   ],
   "source": [
    "tf.executing_eagerly()"
   ]
  },
  {
   "cell_type": "code",
   "execution_count": 72,
   "metadata": {},
   "outputs": [
    {
     "name": "stderr",
     "output_type": "stream",
     "text": [
      "W0420 13:05:42.183631 20564 base_layer.py:1814] Layer dense_23 is casting an input tensor from dtype float64 to the layer's dtype of float32, which is new behavior in TensorFlow 2.  The layer has dtype float32 because it's dtype defaults to floatx.\n",
      "\n",
      "If you intended to run this layer in float32, you can safely ignore this warning. If in doubt, this warning is likely only an issue if you are porting a TensorFlow 1.X model to TensorFlow 2.\n",
      "\n",
      "To change all layers to have dtype float64 by default, call `tf.keras.backend.set_floatx('float64')`. To change just this layer, pass dtype='float64' to the layer constructor. If you are the author of this layer, you can disable autocasting by passing autocast=False to the base Layer constructor.\n",
      "\n"
     ]
    },
    {
     "data": {
      "image/png": "[encoded data removed]",
      "text/plain": [
       "<Figure size 1440x288 with 9 Axes>"
      ]
     },
     "metadata": {
      "needs_background": "light"
     },
     "output_type": "display_data"
    }
   ],
   "source": [
    "#plot the number of your choice using the lowest validation loss cVAE\n",
    "n = 10\n",
    "labels = np.array([[0,0,1,0,0,0,0,0,0,0]*n])\n",
    "labels=labels.reshape(n,10)\n",
    "new_codings = tf.random.normal(shape=[n,coding_size])\n",
    "numbers = cvae_decoder(np.concatenate([new_codings, labels],axis=-1)).numpy()\n",
    "plt.figure(figsize=(20, 4))\n",
    "for i in range(1,n):\n",
    "    # display reconstruction\n",
    "    ax = plt.subplot(2, n, i + n)\n",
    "    plt.imshow(numbers[i].reshape(28, 28))\n",
    "    plt.gray()\n",
    "    ax.get_xaxis().set_visible(False)\n",
    "    ax.get_yaxis().set_visible(False)\n",
    "plt.show()"
   ]
  },
  {
   "cell_type": "code",
   "execution_count": 77,
   "metadata": {},
   "outputs": [
    {
     "data": {
      "text/plain": [
       "Reusing TensorBoard on port 6006 (pid 4692), started 0:02:06 ago. (Use '!kill 4692' to kill it.)"
      ]
     },
     "metadata": {},
     "output_type": "display_data"
    },
    {
     "data": {
      "text/html": [
       "\n",
       "      <iframe id=\"tensorboard-frame-fb42b3cfb0cfa988\" width=\"100%\" height=\"800\" frameborder=\"0\">\n",
       "      </iframe>\n",
       "      <script>\n",
       "        (function() {\n",
       "          const frame = document.getElementById(\"tensorboard-frame-fb42b3cfb0cfa988\");\n",
       "          const url = new URL(\"/\", window.location);\n",
       "          url.port = 6006;\n",
       "          frame.src = url;\n",
       "        })();\n",
       "      </script>\n",
       "  "
      ],
      "text/plain": [
       "<IPython.core.display.HTML object>"
      ]
     },
     "metadata": {},
     "output_type": "display_data"
    }
   ],
   "source": [
    "%tensorboard --logdir logs/fit #output tensorboard logs"
   ]
  }
 ],
 "metadata": {
  "kernelspec": {
   "display_name": "Python 3",
   "language": "python",
   "name": "python3"
  },
  "language_info": {
   "codemirror_mode": {
    "name": "ipython",
    "version": 3
   },
   "file_extension": ".py",
   "mimetype": "text/x-python",
   "name": "python",
   "nbconvert_exporter": "python",
   "pygments_lexer": "ipython3",
   "version": "3.8.0"
  }
 },
 "nbformat": 4,
 "nbformat_minor": 2
}
